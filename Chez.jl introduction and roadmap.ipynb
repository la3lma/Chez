{
 "cells": [
  {
   "cell_type": "markdown",
   "metadata": {},
   "source": [
    "## Introduction\n",
    "This notebook is intended as a guide to my current toy project of making a\n",
    "reinforcement-learning based chess-playing program. It's inspired by alphazero, \n",
    "but it's more just a tool for me to learn a bit about reinforcement learning than anything else. In other words: Don't take it too seriously.\n",
    "    \n",
    "The program is built in multiple layers.   \n",
    "\n",
    "* The first layer is the basic game mechanics of chess: Move around on the board, find legal moves, print out board positions and moves etc. Chess is implemented, but there are some elements missing. In particular there is no rooking, no en passant, and no draws forced from repeated moves.   These can be added, but I felt that the subset of chess currently implemented is fine as a \"minimum viable chess\", for the purposes of this project. \n",
    "\n",
    "* The second layer is about gameplay.  How to play against an opponent, how to run tournaments and score the performance of the participants in the tournaments.   At this time the only tournaments are between two players, but they do play a number of matches \n",
    "\n",
    "* The third layer is about reinforcement learning.  In particular deep reinforcement learning.    It is by far the least mature of the three layers, but it is complete to the extent that it is possible to put run tournaments between players that are defined by artificual neural networks implemented using Flux.jl.\n",
    "\n",
    "This notebook will  present each of these layers and how to access them as a developer.   The first thing to do is to include the \"chez.jl\" file.  This will load all the necessary libraries, and run some unit tests etc.\n",
    "\n",
    "Some of these unit tests involve playing a short turnament, so don't be alarmed if it says so.\n",
    "\n",
    "    \n",
    "    "
   ]
  },
  {
   "cell_type": "code",
   "execution_count": 26,
   "metadata": {},
   "outputs": [
    {
     "ename": "LoadError",
     "evalue": "LoadError: invalid redefinition of constant ChessBoard\nin expression starting at /Users/rmz/git/AI/chezjulia/chessboard.jl:8",
     "output_type": "error",
     "traceback": [
      "LoadError: invalid redefinition of constant ChessBoard\nin expression starting at /Users/rmz/git/AI/chezjulia/chessboard.jl:8",
      "",
      "Stacktrace:",
      " [1] top-level scope at /Users/rmz/git/AI/chezjulia/chessboard.jl:8",
      " [2] include at ./boot.jl:328 [inlined]",
      " [3] include_relative(::Module, ::String) at ./loading.jl:1105",
      " [4] include(::Module, ::String) at ./Base.jl:31",
      " [5] include(::String) at ./client.jl:424",
      " [6] top-level scope at /Users/rmz/git/AI/chezjulia/chez.jl:2",
      " [7] include at ./boot.jl:328 [inlined]",
      " [8] include_relative(::Module, ::String) at ./loading.jl:1105",
      " [9] include(::Module, ::String) at ./Base.jl:31",
      " [10] include(::String) at ./client.jl:424",
      " [11] top-level scope at In[26]:1"
     ]
    }
   ],
   "source": [
    "include(\"chez.jl\")"
   ]
  },
  {
   "cell_type": "code",
   "execution_count": null,
   "metadata": {},
   "outputs": [],
   "source": []
  },
  {
   "cell_type": "markdown",
   "metadata": {},
   "source": [
    "## Chess pieces\n",
    "\n",
    "\n",
    "\n",
    "With that in place, let's look at the chess pieces and the chess board.\n",
    "\n",
    "There is a type for every color and every type of piece (rook, pawn, etc.)  It all comes together in the struct ChessPiece found in the pieces.jl file.\n",
    "\n",
    "     struct ChessPiece\n",
    "       color:: Color\n",
    "       piecetype:: PieceType\n",
    "       printrep:: String\n",
    "       unicode:: String\n",
    "     end\n",
    "\n",
    "The \"printrep\" is a single character written description of the piece. Black pieces are given upper case names (like \"P\" for black pawns).   The \"unicode\" is a unicode chess symbol character, so for a black pawn it would be \"♟\".\n",
    "\n",
    "All the pieces are also given symbolic names, so it's possible to refer to individual pieces by the variable that represents them:\n",
    "\n",
    "\n",
    "\n",
    "    bp  = ChessPiece(black, pawn,   \"P\", \"♟\");\n",
    "    br  = ChessPiece(black, rook,   \"R\", \"♜\");\n",
    "    bk  = ChessPiece(black, knight, \"G\", \"♞\")\n",
    "    bb  = ChessPiece(black, bishop, \"B\", \"♝\");\n",
    "    bq  = ChessPiece(black, queen,  \"Q\", \"♛\");\n",
    "    bki = ChessPiece(black, king,   \"K\", \"♚\");\n",
    "\n",
    "    wp  = ChessPiece(white, pawn,   \"p\", \"♙\");\n",
    "    wr  = ChessPiece(white, rook,   \"r\", \"♖\");\n",
    "    wk  = ChessPiece(white, knight, \"g\", \"♘\");\n",
    "    wb  = ChessPiece(white, bishop, \"b\", \"♗\");\n",
    "    wq  = ChessPiece(white, queen,  \"q\", \"♕\");\n",
    "    wki = ChessPiece(white, king,   \"k\", \"♔\");\n",
    "\n",
    "    bs = ChessPiece(transparent, blank,  \" \",  \" \");\n",
    "    \n",
    "That's pretty much it\n"
   ]
  },
  {
   "cell_type": "code",
   "execution_count": 6,
   "metadata": {},
   "outputs": [
    {
     "data": {
      "text/plain": [
       "\"P\""
      ]
     },
     "execution_count": 6,
     "metadata": {},
     "output_type": "execute_result"
    }
   ],
   "source": [
    " # a black pawn will print as a string with a capital P.\n",
    "bp "
   ]
  },
  {
   "cell_type": "markdown",
   "metadata": {},
   "source": [
    "## Chessboard\n",
    "\n",
    "Iin the file \"chessboard.jl\" we introduce a data structure  # a black pawn will print as a string with a capital P. for holding chessboards and game positions. It's implemented as an array of chess pieces. \n",
    "\n",
    "\n",
    "We then produce a constant we call startingBoard, which contains the fully populated chessboard, as it appears in standard chess before the first move is performed.\n",
    "\n",
    "There are some structures for describing coordinates and positioning of pieces, but not much more in chessboard.jl.\n",
    "\n",
    "\n",
    "# Constructing an initial chessboard\n",
    "\n",
    "    startingBoardArray = [\n",
    "      wr wk wb wq wki wb wk wr;\n",
    "      wp wp wp wp wp  wp wp wp;\n",
    "      bs bs bs bs bs  bs bs bs;\n",
    "      bs bs bs bs bs  bs bs bs;\n",
    "      bs bs bs bs bs  bs bs bs;\n",
    "      bs bs bs bs bs  bs bs bs;\n",
    "      bp bp bp bp bp  bp bp bp;\n",
    "      br bk bb bq bki bb bk br;\n",
    "    ];\n",
    "\n",
    "    startingBoard = ChessBoard(startingBoardArray)\n",
    "    \n",
    "    \n",
    " The startingBoardArray is simply an of chess pieces, and we print it using the string representation of the pieces.\n"
   ]
  },
  {
   "cell_type": "code",
   "execution_count": null,
   "metadata": {},
   "outputs": [],
   "source": []
  },
  {
   "cell_type": "code",
   "execution_count": 10,
   "metadata": {},
   "outputs": [
    {
     "data": {
      "text/plain": [
       "8×8 Array{ChessPiece,2}:\n",
       " \"r\"  \"g\"  \"b\"  \"q\"  \"k\"  \"b\"  \"g\"  \"r\"\n",
       " \"p\"  \"p\"  \"p\"  \"p\"  \"p\"  \"p\"  \"p\"  \"p\"\n",
       " \" \"  \" \"  \" \"  \" \"  \" \"  \" \"  \" \"  \" \"\n",
       " \" \"  \" \"  \" \"  \" \"  \" \"  \" \"  \" \"  \" \"\n",
       " \" \"  \" \"  \" \"  \" \"  \" \"  \" \"  \" \"  \" \"\n",
       " \" \"  \" \"  \" \"  \" \"  \" \"  \" \"  \" \"  \" \"\n",
       " \"P\"  \"P\"  \"P\"  \"P\"  \"P\"  \"P\"  \"P\"  \"P\"\n",
       " \"R\"  \"G\"  \"B\"  \"Q\"  \"K\"  \"B\"  \"G\"  \"R\""
      ]
     },
     "execution_count": 10,
     "metadata": {},
     "output_type": "execute_result"
    }
   ],
   "source": [
    "startingBoardArray\n"
   ]
  },
  {
   "cell_type": "markdown",
   "metadata": {},
   "source": [
    "The startingBoard object however, we chose to print using the unicode \"chess\" characters.  This is what we will ordinarily use, since it (according to my taste) looks nicer and more compact."
   ]
  },
  {
   "cell_type": "code",
   "execution_count": 9,
   "metadata": {},
   "outputs": [
    {
     "data": {
      "text/plain": [
       "8♜♞♝♛♚♝♞♜8\n",
       "7♟♟♟♟♟♟♟♟7\n",
       "6        6\n",
       "5        5\n",
       "4        4\n",
       "3        3\n",
       "2♙♙♙♙♙♙♙♙2\n",
       "1♖♘♗♕♔♗♘♖1\n"
      ]
     },
     "execution_count": 9,
     "metadata": {},
     "output_type": "execute_result"
    }
   ],
   "source": [
    "startingBoard"
   ]
  },
  {
   "cell_type": "markdown",
   "metadata": {},
   "source": [
    "## Moving around\n",
    "\n",
    "\n",
    "The central data structure for representing moves is the Move sgtruct\n",
    "\n",
    "    struct Move\n",
    "        start:: Coord\n",
    "        destination:: Coord\n",
    "        capture:: Bool\n",
    "        startPiece:: ChessPiece\n",
    "        destinationPiece:: ChessPiece\n",
    "    end\n",
    "\n",
    "It's designed to be comprehensive and simple to work with, not necessarily small or computationally fast.  It describes how a piece is moved rom one place to another.  It also contains references to the piece at the source and the destination.  This information is obviously also stored on the chessboard.  The reason for the duplication is that some operations should be able to do without referencing to the board. One of those operations is simply printing the move.\n",
    "\n",
    "There are methods  in movement.jl for printing out moves in standard algebraic notation (SAN) and figurine algebraic notation [wikipedia](https://en.wikipedia.org/wiki/Chess_notation) (move_as_san, move_as_san).  These are useful when printing games, and it's useful to have a compact notation rather than the whole chessboard (although sometimes both in combination is even more useful).\n",
    "\n",
    "There are a few little quirks about how legal moves are generated.  They should be simple, if you are interested read the source code. For the most part, the only part that external users of this package needs to interface with is the function \n",
    "\n",
    "      get_moves(color::Color, board::ChessBoard, drop_king_moves::Bool  = false)\n",
    "\n",
    "This function will assume that \"color\" is about to make the next move, and will generate a list of all the available moves for that color.   The drop_king_moves parameter is by default set to false, but in the case where a king-move is checked for legality, it is useful to generate all possible moves by pieces that are not kings, so hence the parameter.\n",
    "\n",
    "Internally the get_moves function will simply find all pieces of the current color and apply the function get_mvoes_for_piece.\n",
    "\n",
    "     function get_moves_for_piece(\n",
    "           piece::{Pawn, Rook, Queen, King, ...}, \n",
    "           color::Color,\n",
    "           board::ChessBoard,\n",
    "           coord::Coord,\n",
    "           drop_king_moves::Bool)\n",
    "\n",
    "This is a heavily overloaded function.  There is one for each of the types of pieces (pawn, rook, ...), so essentially each type of piece has its own function that will give all the possible moves.  There are some helper functions for that too, in essence making up a small domain specific language for talking generating chess moves, but I will not say more about that here.\n"
   ]
  },
  {
   "cell_type": "code",
   "execution_count": 15,
   "metadata": {},
   "outputs": [
    {
     "data": {
      "text/plain": [
       "20-element Array{Any,1}:\n",
       " \"♘b1c3\"\n",
       " \"♘b1a3\"\n",
       " \"♘g1h3\"\n",
       " \"♘g1f3\"\n",
       " \"♙a2a3\"\n",
       " \"♙a2a4\"\n",
       " \"♙b2b3\"\n",
       " \"♙b2b4\"\n",
       " \"♙c2c3\"\n",
       " \"♙c2c4\"\n",
       " \"♙d2d3\"\n",
       " \"♙d2d4\"\n",
       " \"♙e2e3\"\n",
       " \"♙e2e4\"\n",
       " \"♙f2f3\"\n",
       " \"♙f2f4\"\n",
       " \"♙g2g3\"\n",
       " \"♙g2g4\"\n",
       " \"♙h2h3\"\n",
       " \"♙h2h4\""
      ]
     },
     "execution_count": 15,
     "metadata": {},
     "output_type": "execute_result"
    }
   ],
   "source": [
    "# To get all the opening moves for white do:\n",
    "\n",
    "legal_opening_moves = get_moves(white, startingBoard)\n",
    "\n",
    "# (Note that the elements in the 20-element array are not strings, they are Move records, they just print\n",
    "# as strings.)"
   ]
  },
  {
   "cell_type": "markdown",
   "metadata": {},
   "source": [
    "If we want to apply one of these moves to the starting board, we invoke the apply_move! function:"
   ]
  },
  {
   "cell_type": "code",
   "execution_count": 17,
   "metadata": {},
   "outputs": [
    {
     "data": {
      "text/plain": [
       "8♜♞♝♛♚♝♞♜8\n",
       "7♟♟♟♟♟♟♟♟7\n",
       "6        6\n",
       "5        5\n",
       "4        4\n",
       "3  ♘     3\n",
       "2♙♙♙♙♙♙♙♙2\n",
       "1♖ ♗♕♔♗♘♖1\n"
      ]
     },
     "execution_count": 17,
     "metadata": {},
     "output_type": "execute_result"
    }
   ],
   "source": [
    "apply_move!(legal_opening_moves[1], startingBoard)"
   ]
  },
  {
   "cell_type": "markdown",
   "metadata": {},
   "source": [
    "... and that's pretty much all you need to abstract away most of chess's game mechanics."
   ]
  },
  {
   "cell_type": "markdown",
   "metadata": {},
   "source": [
    "## Gameplay\n",
    "So we have pieces, and we have boards, but we don't yet have playes, games and tournaments.  The \"gameplay.jl\" file introduces that.  Players are structures:\n",
    "\n",
    "   struct Player\n",
    "       id::String\n",
    "       strategy\n",
    "       state\n",
    "   end\n",
    "\n",
    "The id is a string to help us keep track of the players.  The strategy is a function that will take a few parameters..\n",
    "\n",
    "     strategy(board, available_moves, move_history, board_history)\n",
    "\n",
    "and return one of the moves listed in \"available_moves\".   The strategy may mutate the state of the player it's associated with, but nothing else (that's a convention, and anyone who write players are required to follow that contract, but it's not enforced by typesystem or other formal constraint-imposing mechanisms).\n",
    "\n",
    "Game outecomes may be wins, or draws.  The wins contains a reference to the winning player.\n",
    "\n",
    "gameplay.jl also introduces the concept of a \"tournament\".   A tournament is a sequence of individual games that are played between two players.  The players are alternatively set to play white and black.  The tournament simply plays the games to completion (draw due to being too long, or one of the players wins).\n",
    "\n",
    "To facilitate unit testing a type of  player that selects random legal moves is introduced, and a simple tournament is played between two of these \"random players\".\n"
   ]
  },
  {
   "cell_type": "code",
   "execution_count": 21,
   "metadata": {},
   "outputs": [
    {
     "data": {
      "text/plain": [
       "\"Tournament_Result{games= {10}, p1='random player 1', p2='random player 2',  p1wins = 4, p2wins = 6, draws = 0}\""
      ]
     },
     "execution_count": 21,
     "metadata": {},
     "output_type": "execute_result"
    }
   ],
   "source": [
    "# Get the result of a short tournament (10 games) between two random players.\n",
    "random_result = play_tournament(random_player_1, random_player_2)"
   ]
  },
  {
   "cell_type": "code",
   "execution_count": 24,
   "metadata": {},
   "outputs": [
    {
     "data": {
      "text/plain": [
       "0.6"
      ]
     },
     "execution_count": 24,
     "metadata": {},
     "output_type": "execute_result"
    }
   ],
   "source": [
    "# There is a convenience function that will calculate the win-rate for the p2 player\n",
    "p2_win_ratio(random_result)\n",
    "# This function is later used to determine when the p2 player is significantly better than\n",
    "# the p1 player.   The result shouldn't be trusted for short tournaments (due to math :-)."
   ]
  },
  {
   "cell_type": "markdown",
   "metadata": {},
   "source": [
    "The function tournament_learning will run a tournament and run a learning algorithm that will attempt to select better moves after every training session.    The tournament will hopefully produce a sequence of increasingly better playes that will all be placed in the \"p2\" position.  In the end a dataframe containing a log some of the results found during the tourament is returned.  The player that occupies the \"p2\" role at the end of the tournament, presumably the best player the tournament produced, is also returned.  While running the tournament will print some progress information so that we will not think it is just sitting there doing nothing.\n"
   ]
  },
  {
   "cell_type": "code",
   "execution_count": null,
   "metadata": {},
   "outputs": [
    {
     "name": "stdout",
     "output_type": "stream",
     "text": [
      "Playing tournament round 1 \n",
      "round 1 p2_advantage = 0.3333333333333333\n",
      "Q-learning\n",
      "   Training: ............\n",
      "Playing tournament round 2 \n",
      "round 2 p2_advantage = 0.5\n",
      "Q-learning\n",
      "   Training: ............\n",
      "Playing tournament round 3 \n",
      "round 3 p2_advantage = 0.4166666666666667\n",
      "Q-learning\n",
      "   Training: ............\n",
      "Playing tournament round 4 \n",
      "round 4 p2_advantage = 0.3333333333333333\n",
      "Q-learning\n",
      "   Training: ............\n",
      "Playing tournament round 5 \n",
      "round 5 p2_advantage = 0.75\n",
      "   p2( Initial q player, learning) has a 0.75 advantage, so cloning it into p1, replacing (random player 1, static)\n",
      "Q-learning\n",
      "   Training: ............\n",
      "Playing tournament round 6 \n",
      "round 6 p2_advantage = 0.5\n",
      "Q-learning\n",
      "   Training: ............\n",
      "Playing tournament round 7 \n",
      "round 7 p2_advantage = 0.3333333333333333\n",
      "Q-learning\n",
      "   Training: ............\n",
      "Playing tournament round 8 \n",
      "round 8 p2_advantage = 0.5833333333333334\n",
      "   p2( Initial q player, learning) has a 0.5833333333333334 advantage, so cloning it into p1, replacing (Clone gen 2 q-player, static)\n",
      "Q-learning\n",
      "   Training: ............\n",
      "Playing tournament round 9 \n",
      "round 9 p2_advantage = 0.75\n",
      "   p2( Initial q player, learning) has a 0.75 advantage, so cloning it into p1, replacing (Clone gen 3 q-player, static)\n",
      "Q-learning\n",
      "   Training: ............\n",
      "Playing tournament round 10 \n",
      "round 10 p2_advantage = 0.5\n",
      "Q-learning\n",
      "   Training: ............\n",
      "Playing tournament round 11 \n",
      "round 11 p2_advantage = 0.6666666666666666\n",
      "   p2( Initial q player, learning) has a 0.6666666666666666 advantage, so cloning it into p1, replacing (Clone gen 4 q-player, static)\n",
      "Q-learning\n",
      "   Training: ............\n",
      "Playing tournament round 12 \n",
      "round 12 p2_advantage = 0.4166666666666667\n",
      "Q-learning\n",
      "   Training: ............\n",
      "Playing tournament round 13 \n",
      "round 13 p2_advantage = 0.4166666666666667\n",
      "Q-learning\n",
      "   Training: ............\n",
      "Playing tournament round 14 \n",
      "round 14 p2_advantage = 0.9166666666666666\n",
      "   p2( Initial q player, learning) has a 0.9166666666666666 advantage, so cloning it into p1, replacing (Clone gen 5 q-player, static)\n",
      "Q-learning\n",
      "   Training: ....."
     ]
    }
   ],
   "source": [
    "    (log, winning_player) = tournament_learning(\n",
    "        100,  # Number of tournaments\n",
    "        0.55, # The trigger value for cloning the learning player\n",
    "        200,  # How many rounds to play before calling the game a draw\n",
    "        12)   # How many games in the tournament (12 is a very small number, but this is just a demo)"
   ]
  },
  {
   "cell_type": "markdown",
   "metadata": {},
   "source": [
    "## Future work\n",
    "\n",
    "Actually, most of the work is probably future work.   The basic mechanics of \"tournament learning\" is probably in place now.  However, it's not done.   Also it would be nice to able to picle the players so that they can be used in different settings later. In particular it could be nice to play against it to see if it is any way behaving as a reasonable opponent.\n",
    "\n",
    "Currently the network learning takes most of the time (as it should). However, it could be speeded up significantly by using GPUs.  That should be easy, but since I haven't run this code on a GPU-enabled machine yet, that part hasn't been done.  It should be a ten line (or less) code patch.\n",
    "\n",
    "That however is not the most important part: The actual reinforcement learning algorithm, and the neural network that does the learning is really very bad.  It is little more than placeholders that has been implemented to build the mechanics necessary to start development of players in ernest. ... That's where we are now :-)"
   ]
  },
  {
   "cell_type": "code",
   "execution_count": null,
   "metadata": {},
   "outputs": [],
   "source": []
  },
  {
   "cell_type": "code",
   "execution_count": null,
   "metadata": {},
   "outputs": [],
   "source": []
  }
 ],
 "metadata": {
  "kernelspec": {
   "display_name": "Julia 1.3.1",
   "language": "julia",
   "name": "julia-1.3"
  },
  "language_info": {
   "file_extension": ".jl",
   "mimetype": "application/julia",
   "name": "julia",
   "version": "1.3.1"
  }
 },
 "nbformat": 4,
 "nbformat_minor": 2
}
