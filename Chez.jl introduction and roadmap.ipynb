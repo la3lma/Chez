{
 "cells": [
  {
   "cell_type": "markdown",
   "metadata": {},
   "source": [
    "## Introduction\n",
    "This notebook is intended as a guide to my current toy project of making a\n",
    "reinforcement-learning based chess-playing program. It's inspired by alphazero, \n",
    "but it's more just a tool for me to learn a bit about reinforcement learning than anything else. In other words: Don't take it too seriously.\n",
    "    \n",
    "The program is built in multiple layers.   \n",
    "\n",
    "* The first layer is the basic game mechanics of chess: Move around on the board, find legal moves, print out board positions and moves etc. Chess is implemented, but there are some elements missing. In particular there is no rooking, no en passant, and no draws forced from repeated moves.   These can be added, but I felt that the subset of chess currently implemented is fine as a \"minimum viable chess\", for the purposes of this project. \n",
    "\n",
    "* The second layer is about gameplay.  How to play against an opponent, how to run tournaments and score the performance of the participants in the tournaments.   At this time the only tournaments are between two players, but they do play a number of matches \n",
    "\n",
    "* The third layer is about reinforcement learning.  In particular deep reinforcement learning.    It is by far the least mature of the three layers, but it is complete to the extent that it is possible to put run tournaments between players that are defined by artificual neural networks implemented using Flux.jl.\n",
    "\n",
    "This notebook will  present each of these layers and how to access them as a developer.   The first thing to do is to include the \"chez.jl\" file.  This will load all the necessary libraries, and run some unit tests etc.\n",
    "\n",
    "Some of these unit tests involve playing a short turnament, so don't be alarmed if it says so.\n",
    "\n",
    "    \n",
    "    "
   ]
  },
  {
   "cell_type": "code",
   "execution_count": null,
   "metadata": {},
   "outputs": [],
   "source": []
  },
  {
   "cell_type": "code",
   "execution_count": 4,
   "metadata": {},
   "outputs": [
    {
     "name": "stdout",
     "output_type": "stream",
     "text": [
      "8♜♞♝♛♚♝♞♜8\n",
      "7♟♟♟♟♟♟♟♟7\n",
      "6        6\n",
      "5        5\n",
      "4        4\n",
      "3        3\n",
      "2♙♙♙♙♙♙♙♙2\n",
      "1♖♘♗♕♔♗♘♖1\n",
      "Playing tournament\n",
      "Tournament played\n",
      "\u001b[32m\u001b[1m Resolving\u001b[22m\u001b[39m package versions...\n",
      "\u001b[32m\u001b[1m  Updating\u001b[22m\u001b[39m `~/.julia/environments/v1.3/Project.toml`\n",
      "\u001b[90m [no changes]\u001b[39m\n",
      "\u001b[32m\u001b[1m  Updating\u001b[22m\u001b[39m `~/.julia/environments/v1.3/Manifest.toml`\n",
      "\u001b[90m [no changes]\u001b[39m\n",
      "\u001b[32m\u001b[1m Resolving\u001b[22m\u001b[39m package versions...\n",
      "\u001b[32m\u001b[1m  Updating\u001b[22m\u001b[39m `~/.julia/environments/v1.3/Project.toml`\n",
      "\u001b[90m [no changes]\u001b[39m\n",
      "\u001b[32m\u001b[1m  Updating\u001b[22m\u001b[39m `~/.julia/environments/v1.3/Manifest.toml`\n",
      "\u001b[90m [no changes]\u001b[39m\n"
     ]
    },
    {
     "data": {
      "text/plain": [
       "run_big_tournament (generic function with 1 method)"
      ]
     },
     "execution_count": 4,
     "metadata": {},
     "output_type": "execute_result"
    }
   ],
   "source": [
    "include(\"chez.jl\")"
   ]
  },
  {
   "cell_type": "markdown",
   "metadata": {},
   "source": [
    "## Chess pieces\n",
    "\n",
    "\n",
    "\n",
    "With that in place, let's look at the chess pieces and the chess board.\n",
    "\n",
    "There is a type for every color and every type of piece (rook, pawn, etc.)  It all comes together in the struct ChessPiece found in the pieces.jl file.\n",
    "\n",
    "     struct ChessPiece\n",
    "       color:: Color\n",
    "       piecetype:: PieceType\n",
    "       printrep:: String\n",
    "       unicode:: String\n",
    "     end\n",
    "\n",
    "The \"printrep\" is a single character written description of the piece. Black pieces are given upper case names (like \"P\" for black pawns).   The \"unicode\" is a unicode chess symbol character, so for a black pawn it would be \"♟\".\n",
    "\n",
    "All the pieces are also given symbolic names, so it's possible to refer to individual pieces by the variable that represents them:\n",
    "\n",
    "\n",
    "\n",
    "    bp  = ChessPiece(black, pawn,   \"P\", \"♟\");\n",
    "    br  = ChessPiece(black, rook,   \"R\", \"♜\");\n",
    "    bk  = ChessPiece(black, knight, \"G\", \"♞\")\n",
    "    bb  = ChessPiece(black, bishop, \"B\", \"♝\");\n",
    "    bq  = ChessPiece(black, queen,  \"Q\", \"♛\");\n",
    "    bki = ChessPiece(black, king,   \"K\", \"♚\");\n",
    "\n",
    "    wp  = ChessPiece(white, pawn,   \"p\", \"♙\");\n",
    "    wr  = ChessPiece(white, rook,   \"r\", \"♖\");\n",
    "    wk  = ChessPiece(white, knight, \"g\", \"♘\");\n",
    "    wb  = ChessPiece(white, bishop, \"b\", \"♗\");\n",
    "    wq  = ChessPiece(white, queen,  \"q\", \"♕\");\n",
    "    wki = ChessPiece(white, king,   \"k\", \"♔\");\n",
    "\n",
    "    bs = ChessPiece(transparent, blank,  \" \",  \" \");\n",
    "    \n",
    "That's pretty much it\n"
   ]
  },
  {
   "cell_type": "code",
   "execution_count": 6,
   "metadata": {},
   "outputs": [
    {
     "data": {
      "text/plain": [
       "\"P\""
      ]
     },
     "execution_count": 6,
     "metadata": {},
     "output_type": "execute_result"
    }
   ],
   "source": [
    " # a black pawn will print as a string with a capital P.\n",
    "bp "
   ]
  },
  {
   "cell_type": "markdown",
   "metadata": {},
   "source": [
    "## Chessboard\n",
    "\n",
    "Iin the file \"chessboard.jl\" we introduce a data structure  # a black pawn will print as a string with a capital P. for holding chessboards and game positions. It's implemented as an array of chess pieces. \n",
    "\n",
    "\n",
    "We then produce a constant we call startingBoard, which contains the fully populated chessboard, as it appears in standard chess before the first move is performed.\n",
    "\n",
    "There are some structures for describing coordinates and positioning of pieces, but not much more in chessboard.jl.\n",
    "\n",
    "\n",
    "# Constructing an initial chessboard\n",
    "\n",
    "    startingBoardArray = [\n",
    "      wr wk wb wq wki wb wk wr;\n",
    "      wp wp wp wp wp  wp wp wp;\n",
    "      bs bs bs bs bs  bs bs bs;\n",
    "      bs bs bs bs bs  bs bs bs;\n",
    "      bs bs bs bs bs  bs bs bs;\n",
    "      bs bs bs bs bs  bs bs bs;\n",
    "      bp bp bp bp bp  bp bp bp;\n",
    "      br bk bb bq bki bb bk br;\n",
    "    ];\n",
    "\n",
    "    startingBoard = ChessBoard(startingBoardArray)\n",
    "    \n",
    "    \n",
    " The startingBoardArray is simply an of chess pieces, and we print it using the string representation of the pieces.\n"
   ]
  },
  {
   "cell_type": "code",
   "execution_count": null,
   "metadata": {},
   "outputs": [],
   "source": []
  },
  {
   "cell_type": "code",
   "execution_count": 10,
   "metadata": {},
   "outputs": [
    {
     "data": {
      "text/plain": [
       "8×8 Array{ChessPiece,2}:\n",
       " \"r\"  \"g\"  \"b\"  \"q\"  \"k\"  \"b\"  \"g\"  \"r\"\n",
       " \"p\"  \"p\"  \"p\"  \"p\"  \"p\"  \"p\"  \"p\"  \"p\"\n",
       " \" \"  \" \"  \" \"  \" \"  \" \"  \" \"  \" \"  \" \"\n",
       " \" \"  \" \"  \" \"  \" \"  \" \"  \" \"  \" \"  \" \"\n",
       " \" \"  \" \"  \" \"  \" \"  \" \"  \" \"  \" \"  \" \"\n",
       " \" \"  \" \"  \" \"  \" \"  \" \"  \" \"  \" \"  \" \"\n",
       " \"P\"  \"P\"  \"P\"  \"P\"  \"P\"  \"P\"  \"P\"  \"P\"\n",
       " \"R\"  \"G\"  \"B\"  \"Q\"  \"K\"  \"B\"  \"G\"  \"R\""
      ]
     },
     "execution_count": 10,
     "metadata": {},
     "output_type": "execute_result"
    }
   ],
   "source": [
    "startingBoardArray\n"
   ]
  },
  {
   "cell_type": "markdown",
   "metadata": {},
   "source": [
    "The startingBoard object however, we chose to print using the unicode \"chess\" characters.  This is what we will ordinarily use, since it (according to my taste) looks nicer and more compact."
   ]
  },
  {
   "cell_type": "code",
   "execution_count": 9,
   "metadata": {},
   "outputs": [
    {
     "data": {
      "text/plain": [
       "8♜♞♝♛♚♝♞♜8\n",
       "7♟♟♟♟♟♟♟♟7\n",
       "6        6\n",
       "5        5\n",
       "4        4\n",
       "3        3\n",
       "2♙♙♙♙♙♙♙♙2\n",
       "1♖♘♗♕♔♗♘♖1\n"
      ]
     },
     "execution_count": 9,
     "metadata": {},
     "output_type": "execute_result"
    }
   ],
   "source": [
    "startingBoard"
   ]
  },
  {
   "cell_type": "markdown",
   "metadata": {},
   "source": [
    "## Moving around\n",
    "\n",
    "    struct Move\n",
    "        start:: Coord\n",
    "        destination:: Coord\n",
    "        capture:: Bool\n",
    "        startPiece:: ChessPiece\n",
    "        destinationPiece:: ChessPiece\n",
    "    end\n",
    "\n"
   ]
  },
  {
   "cell_type": "code",
   "execution_count": null,
   "metadata": {},
   "outputs": [],
   "source": []
  },
  {
   "cell_type": "code",
   "execution_count": null,
   "metadata": {},
   "outputs": [],
   "source": []
  },
  {
   "cell_type": "code",
   "execution_count": null,
   "metadata": {},
   "outputs": [],
   "source": []
  },
  {
   "cell_type": "code",
   "execution_count": null,
   "metadata": {},
   "outputs": [],
   "source": []
  }
 ],
 "metadata": {
  "kernelspec": {
   "display_name": "Julia 1.3.1",
   "language": "julia",
   "name": "julia-1.3"
  },
  "language_info": {
   "file_extension": ".jl",
   "mimetype": "application/julia",
   "name": "julia",
   "version": "1.3.1"
  }
 },
 "nbformat": 4,
 "nbformat_minor": 2
}
